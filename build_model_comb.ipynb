{
 "cells": [
  {
   "cell_type": "code",
   "execution_count": 14,
   "metadata": {
    "collapsed": false
   },
   "outputs": [],
   "source": [
    "%matplotlib inline\n",
    "import os\n",
    "import re\n",
    "import json, codecs\n",
    "import itertools\n",
    "import pandas as pd\n",
    "import numpy as np\n",
    "from dateutil.parser import parse\n",
    "from datetime import datetime, date, time, timedelta\n",
    "import xgboost as xgb\n",
    "from xgboost.sklearn import XGBClassifier\n",
    "from sklearn.preprocessing import scale\n",
    "from sklearn import (manifold, decomposition, ensemble, discriminant_analysis, random_projection)\n",
    "from dateutil.parser import parse\n",
    "# from sklearn import cross_validation, metrics\n",
    "# from sklearn.grid_search import GridSearchCV\n",
    "# from sklearn import model_selection"
   ]
  },
  {
   "cell_type": "code",
   "execution_count": 3,
   "metadata": {
    "collapsed": true
   },
   "outputs": [],
   "source": [
    "def print_full(x):\n",
    "    pd.set_option('display.max_rows', len(x))\n",
    "    print(x)\n",
    "    pd.reset_option('display.max_rows')"
   ]
  },
  {
   "cell_type": "code",
   "execution_count": 4,
   "metadata": {
    "collapsed": false
   },
   "outputs": [],
   "source": [
    "os.chdir('/project/')\n",
    "sam = pd.read_csv('./Data/cli_agg_v2.csv', dtype=object)\n",
    "# sam.drop(['SCOREINDICATOR', 'R6195_AGE'], axis=1, inplace=True)\n",
    "# sam.shape"
   ]
  },
  {
   "cell_type": "code",
   "execution_count": 5,
   "metadata": {
    "collapsed": false
   },
   "outputs": [
    {
     "data": {
      "text/plain": [
       "(1010521, 308)"
      ]
     },
     "execution_count": 5,
     "metadata": {},
     "output_type": "execute_result"
    }
   ],
   "source": [
    "sam.drop(['SCOREINDICATOR', 'R6195_AGE'], axis=1, inplace=True)\n",
    "sam.shape\n",
    "# col = pd.to_numeric(sam['R6004_NEWESTTRADEAGE_MAX'])\n",
    "# col = col[col<9999]\n",
    "# sorted(col)[-50:]"
   ]
  },
  {
   "cell_type": "code",
   "execution_count": 6,
   "metadata": {
    "collapsed": false,
    "scrolled": false
   },
   "outputs": [],
   "source": [
    "sam_sum = sam.describe()"
   ]
  },
  {
   "cell_type": "code",
   "execution_count": 7,
   "metadata": {
    "collapsed": false
   },
   "outputs": [
    {
     "data": {
      "text/plain": [
       "(202660, 308)"
      ]
     },
     "execution_count": 7,
     "metadata": {},
     "output_type": "execute_result"
    }
   ],
   "source": [
    "sam_prop = 0.2\n",
    "sam2 = sam.ix[pd.to_numeric(sam['RANDOMNUM']) <= sam_prop, :]\n",
    "sam2.shape"
   ]
  },
  {
   "cell_type": "code",
   "execution_count": 8,
   "metadata": {
    "collapsed": false
   },
   "outputs": [
    {
     "name": "stdout",
     "output_type": "stream",
     "text": [
      "CUSTOMERNUMBER\n",
      "DWACCTID\n",
      "HADINCREASE\n",
      "FIRSTELIGIBLEDATE\n",
      "RANDOMNUM\n",
      "SCORE04\n",
      "SCORE06\n",
      "SCORE07\n",
      "SCORE08\n",
      "SCORE09\n",
      "ADDRESSBADIND\n",
      "CURRENTBAL\n",
      "ACCUMDEFERREDINTEREST\n",
      "CREDITLIMITAMOUNT\n",
      "CURRENTDAYSPASTDUEDELINQUENT\n",
      "CUSTOMERAPR\n",
      "CUSTOMERSEGMENT\n",
      "DAYSSINCELASTSALE\n",
      "EXTERNALSTATUSREASONCODE\n",
      "FINANCECHARGEBAL\n",
      "HOMEPHONEBADIND\n",
      "LTDMAXDAYSDELQ\n",
      "LTDNETPAYMENTTALLY\n",
      "MARGINRATE\n",
      "NUMBEROFMTHSINACTIVE\n",
      "OTHERFEEBAL\n",
      "OVERLIMITAMOUNT\n",
      "PLACEDORDERFLAG\n",
      "CTCDPAYMENTAMOUNT\n",
      "CTCDPAYMENTRVSLAMOUNT\n",
      "CTCDPAYMENTTALLY\n",
      "CTCDBSBPURCHTALLY\n",
      "CTCDNSFFEEAMOUNT\n",
      "CTCDLATECHARGEAMOUNT\n",
      "CTCDLATECHARGERVSLAMOUNT\n",
      "LTCDPAYMENTAMOUNT\n",
      "LTCDPAYMENTRVSLAMOUNT\n",
      "LTCDBSBPURCHRVSLAMOUNT\n",
      "LTCDBSBPURCHRVSLTALLY\n",
      "SCORE\n",
      "ADDRESSDISCREPANCYFLAG\n",
      "FRAUDALERTCODE\n",
      "CRITERIACODEANDDNSCODE\n",
      "MO12BANKINSTALLCOUNT\n",
      "OPENBANKRTYPEHIGHCREDITTOTAL\n",
      "GOODRTYPETRADECOUNT\n",
      "R6054_REVTRADEPASTDUECOUNT\n",
      "R6066_D30REVTRADECOUNT\n",
      "R6117_REVTRADE50PERHIGHCOUNT\n",
      "MO12OPENRETAILCOUNT\n",
      "MO03PROMOTIONINQUIRYCOUNT\n",
      "R6040_OPENDEPTTRADECOUNT\n",
      "R6073_D90DEPTTRADECOUNT\n",
      "R6115_DEPTTRADEBAL75HIGHCREDITCOUNT\n",
      "NONFHBALTOTAL\n",
      "NONFHOPENTRADECOUNT\n",
      "R6199_CONSUMERBALHIGHCREDITPERCENT\n",
      "OPENMORTGAGETRADECOUNT\n",
      "R8003_PUBLICRECPLUSBADDEBTNOMEDCOUNT\n",
      "R5006_MO06PROMOTIONINQUIRYCOUNT\n",
      "R5007_MO06BANKPROMOTIONINQUIRYCOUNT\n",
      "R7000_DEROGATORYPUBLICRECORDCOUNT\n",
      "R8000_COLLECTIONCOUNT\n",
      "R5001_MOSINCELASTINQUIRYCOUNT\n",
      "R5003_MO06PROMOTIONINQUIRYCOUNT2\n",
      "R6003_OLDESTTRADEAGE\n",
      "R6008_MO24TRADEOPENCOUNT\n",
      "R6009_TRADECOUNT\n",
      "R6010_OPENTRADECOUNT\n",
      "R8002_MOSINCELASTACTIVITYCOUNT\n",
      "R6015_CURRENTPASTDUEAMOUNT\n",
      "R6018_D30TRADECOUNT\n",
      "R6021_BADDEBTTRADECOUNT\n",
      "R6022_TRADENEVER30DCOUNT\n",
      "R6027_MO24TRADENEVER30DCOUNT\n",
      "R6035_OPENTRADEBAL50PERHIGHCOUNT\n",
      "BANKRUPCYFLAG\n",
      "ALLTRADEPAYMENTTOTAL\n",
      "MO12TRADE30DLATECOUNT\n",
      "MOSINCELASTDELINQUENCYCOUNT\n",
      "MOSINCEMAJORDEROG\n",
      "MO03TRADECLOSEDCOUNT\n",
      "DONOTSOLICITFLAG\n",
      "R6042_TOTALOPENBALANCE\n",
      "RMS5002\n",
      "BRANDXID\n",
      "SCORE01_B01\n",
      "SCORE01_B02\n",
      "SCORE01_B03\n",
      "SCORE01_B04\n",
      "SCORE01_B05\n",
      "SCORE05_B01\n",
      "SCORE05_B02\n",
      "SCORE05_B03\n",
      "SCORE05_B04\n",
      "SCORE05_B05\n",
      "NOPAYDEFERREDBAL_B01\n",
      "NOPAYDEFERREDBAL_B02\n",
      "NOPAYDEFERREDBAL_B03\n",
      "NOPAYDEFERREDBAL_B04\n",
      "NOPAYDEFERREDBAL_B05\n",
      "NOPAYDEFERREDBAL_B06\n",
      "NOPAYDEFERREDBAL_B07\n",
      "NOPAYDEFERREDBAL_B08\n",
      "NOPAYDEFERREDBAL_B09\n",
      "NOPAYDEFERREDBAL_B10\n",
      "NOPAYDEFERREDBAL_B11\n",
      "NOPAYDEFERREDBAL_B12\n",
      "NOPAYDEFERREDBAL_B13\n",
      "NOPAYDEFERREDBAL_B14\n",
      "NOPAYDEFERREDBAL_B15\n",
      "NOPAYDEFERREDBAL_B16\n",
      "NOPAYDEFERREDBAL_B17\n",
      "NOPAYDEFERREDBAL_B18\n",
      "NOPAYDEFERREDBAL_B19\n",
      "NOPAYDEFERREDBAL_B20\n",
      "NOPAYDEFERREDBAL_B21\n",
      "NOPAYDEFERREDBAL_B22\n",
      "NOPAYDEFERREDBAL_B23\n",
      "NOPAYDEFERREDBAL_B24\n",
      "R6196_BALHIGHCREDITPERCENT_B01\n",
      "R6196_BALHIGHCREDITPERCENT_B02\n",
      "R6196_BALHIGHCREDITPERCENT_B03\n",
      "R6196_BALHIGHCREDITPERCENT_B04\n",
      "R6196_BALHIGHCREDITPERCENT_B05\n",
      "R6196_BALHIGHCREDITPERCENT_B06\n",
      "R6196_BALHIGHCREDITPERCENT_B07\n",
      "R6196_BALHIGHCREDITPERCENT_B08\n",
      "R6196_BALHIGHCREDITPERCENT_B09\n",
      "R6196_BALHIGHCREDITPERCENT_B10\n",
      "R6196_BALHIGHCREDITPERCENT_B11\n",
      "R6196_BALHIGHCREDITPERCENT_B12\n",
      "R6196_BALHIGHCREDITPERCENT_B13\n",
      "R6196_BALHIGHCREDITPERCENT_B14\n",
      "R6196_BALHIGHCREDITPERCENT_B15\n",
      "R6196_BALHIGHCREDITPERCENT_B16\n",
      "R6196_BALHIGHCREDITPERCENT_B17\n",
      "R6196_BALHIGHCREDITPERCENT_B18\n",
      "R6196_BALHIGHCREDITPERCENT_B19\n",
      "R6196_BALHIGHCREDITPERCENT_B20\n",
      "R6196_BALHIGHCREDITPERCENT_B21\n",
      "R6196_BALHIGHCREDITPERCENT_B22\n",
      "R6196_BALHIGHCREDITPERCENT_B23\n",
      "R6196_BALHIGHCREDITPERCENT_B24\n",
      "R6011_OPENTRADEBALTOTAL_B01\n",
      "R6011_OPENTRADEBALTOTAL_B02\n",
      "R6011_OPENTRADEBALTOTAL_B03\n",
      "R6011_OPENTRADEBALTOTAL_B04\n",
      "R6011_OPENTRADEBALTOTAL_B05\n",
      "R6011_OPENTRADEBALTOTAL_B06\n",
      "R6011_OPENTRADEBALTOTAL_B07\n",
      "R6011_OPENTRADEBALTOTAL_B08\n",
      "R6011_OPENTRADEBALTOTAL_B09\n",
      "R6011_OPENTRADEBALTOTAL_B10\n",
      "R6011_OPENTRADEBALTOTAL_B11\n",
      "R6011_OPENTRADEBALTOTAL_B12\n",
      "R6011_OPENTRADEBALTOTAL_B13\n",
      "R6011_OPENTRADEBALTOTAL_B14\n",
      "R6011_OPENTRADEBALTOTAL_B15\n",
      "R6011_OPENTRADEBALTOTAL_B16\n",
      "R6011_OPENTRADEBALTOTAL_B17\n",
      "R6011_OPENTRADEBALTOTAL_B18\n",
      "R6011_OPENTRADEBALTOTAL_B19\n",
      "R6011_OPENTRADEBALTOTAL_B20\n",
      "R6011_OPENTRADEBALTOTAL_B21\n",
      "R6011_OPENTRADEBALTOTAL_B22\n",
      "R6011_OPENTRADEBALTOTAL_B23\n",
      "R6011_OPENTRADEBALTOTAL_B24\n",
      "CTCDBSBPURCHAMOUNT_B01\n",
      "CTCDBSBPURCHAMOUNT_B02\n",
      "CTCDBSBPURCHAMOUNT_B03\n",
      "CTCDBSBPURCHAMOUNT_B04\n",
      "CTCDBSBPURCHAMOUNT_B05\n",
      "CTCDBSBPURCHAMOUNT_B06\n",
      "CTCDBSBPURCHAMOUNT_B07\n",
      "CTCDBSBPURCHAMOUNT_B08\n",
      "CTCDBSBPURCHAMOUNT_B09\n",
      "CTCDBSBPURCHAMOUNT_B10\n",
      "CTCDBSBPURCHAMOUNT_B11\n",
      "CTCDBSBPURCHAMOUNT_B12\n",
      "CTCDBSBPURCHAMOUNT_B13\n",
      "CTCDBSBPURCHAMOUNT_B14\n",
      "CTCDBSBPURCHAMOUNT_B15\n",
      "CTCDBSBPURCHAMOUNT_B16\n",
      "CTCDBSBPURCHAMOUNT_B17\n",
      "CTCDBSBPURCHAMOUNT_B18\n",
      "CTCDBSBPURCHAMOUNT_B19\n",
      "CTCDBSBPURCHAMOUNT_B20\n",
      "CTCDBSBPURCHAMOUNT_B21\n",
      "CTCDBSBPURCHAMOUNT_B22\n",
      "CTCDBSBPURCHAMOUNT_B23\n",
      "CTCDBSBPURCHAMOUNT_B24\n",
      "CYCLEDUE_B01\n",
      "CYCLEDUE_B02\n",
      "CYCLEDUE_B03\n",
      "CYCLEDUE_B04\n",
      "CYCLEDUE_B05\n",
      "CYCLEDUE_B06\n",
      "CYCLEDUE_B07\n",
      "CYCLEDUE_B08\n",
      "CYCLEDUE_B09\n",
      "CYCLEDUE_B10\n",
      "CYCLEDUE_B11\n",
      "CYCLEDUE_B12\n",
      "CYCLEDUE_B13\n",
      "CYCLEDUE_B14\n",
      "CYCLEDUE_B15\n",
      "CYCLEDUE_B16\n",
      "CYCLEDUE_B17\n",
      "CYCLEDUE_B18\n",
      "CYCLEDUE_B19\n",
      "CYCLEDUE_B20\n",
      "CYCLEDUE_B21\n",
      "CYCLEDUE_B22\n",
      "CYCLEDUE_B23\n",
      "CYCLEDUE_B24\n",
      "CMA3161\n",
      "CMA3168\n",
      "CMA3204\n",
      "CMA3235\n",
      "CMA3236\n",
      "CMA3662\n",
      "CMA3842\n",
      "CMA3845\n",
      "CMA3854\n",
      "CMA3856\n",
      "CMA3907\n",
      "CREDITLIMITCHANGEREASON\n",
      "NONDEFERREDBAL\n",
      "OPENITYPETRADEBALTOTAL\n",
      "R6200_SATISFACTORYTRADEPERCENT\n",
      "SCORE02\n",
      "SCORE03\n",
      "STATEMENTMINIMUMPAYMENTDUE\n",
      "R5001_MOSINCELASTINQUIRYCOUNT_MAX\n",
      "R5003_MO06PROMOTIONINQUIRYCOUNT2_MAX\n",
      "R6004_NEWESTTRADEAGE_MAX\n",
      "R6007_MO12TRADEOPENCOUNT_MAX\n",
      "R6008_MO24TRADEOPENCOUNT_MAX\n",
      "R6010_OPENTRADECOUNT_MAX\n",
      "R6011_OPENTRADEBALTOTAL_MAX\n",
      "R6015_CURRENTPASTDUEAMOUNT_MAX\n",
      "R6022_TRADENEVER30DCOUNT_MAX\n",
      "R6023_TRADE30DNEVER60DCOUNT_MAX\n",
      "R6032_OPENTRADEWITHBALCOUNT_MAX\n",
      "R6034_OPENTRADEBAL75PERHIGHCOUNT_MAX\n",
      "R6042_TOTALOPENBALANCE_MAX\n",
      "R6063_REVTRADESATISFACTORYCOUNT_MAX\n",
      "R6093_MO24REVTRADENEVER30DCOUNT_MAX\n",
      "R6196_BALHIGHCREDITPERCENT_MAX\n",
      "R6200_SATISFACTORYTRADEPERCENT_MAX\n",
      "R6246_TRADE30DORWORSECOUNT_MAX\n",
      "R7006_MO24PUBLICRECNOMEDCOUNT_MAX\n",
      "RISKREASON2_MAX\n",
      "RISKREASON3_MAX\n",
      "RISKREASON4_MAX\n",
      "CMA3109_MAX\n",
      "CMA3161_MAX\n",
      "CMA3164_MAX\n",
      "CMA3168_MAX\n",
      "CMA3204_MAX\n",
      "CMA3235_MAX\n",
      "CMA3842_MAX\n",
      "CMA3845_MAX\n",
      "CMA3854_MAX\n",
      "CMA3856_MAX\n",
      "CMA3911_MAX\n",
      "CMA3913_MAX\n",
      "SCORE01_MIN\n",
      "MO03PROMOTIONINQUIRYCOUNT_MAX\n",
      "MO12TRADE60DLATECOUNT_MAX\n",
      "MOSINCELASTDELINQUENCYCOUNT_MIN\n",
      "OPENBANKRTYPEHIGHCREDITTOTAL_MAX\n",
      "OPENBANKRTYPEHIGHCREDITTOTAL_MIN\n",
      "SCORE02_MAX\n",
      "SCORE04_MAX\n",
      "SCORE05_MAX\n",
      "SCORE06_MAX\n",
      "SCORE07_MAX\n",
      "SCORE09_MAX\n",
      "ALLTRADEPAYMENTTOTAL_MAX\n",
      "ALLTRADEPAYMENTTOTAL_MIN\n",
      "CTCDBSBPURCHAMOUNT_MAX\n",
      "CTCDLATECHARGEAMOUNT_MAX\n",
      "CTCDLATECHARGERVSLAMOUNT_MIN\n",
      "CTCDPAYMENTAMOUNT_MIN\n",
      "CURRENTBAL_MAX\n",
      "CURRENTDAYSPASTDUEDELINQUENT_MAX\n",
      "DAYSSINCELASTSALE_MAX\n",
      "DAYSSINCELASTSALE_MIN\n",
      "FHACCOUNTNUMBER_MIN\n",
      "FINANCECHARGEBAL_MAX\n",
      "FINANCECHARGEBAL_MIN\n",
      "LTCDBSBPURCHAMOUNT_MIN\n",
      "LTCDBSBPURCHTALLY_MIN\n",
      "LTCDPAYMENTAMOUNT_MAX\n",
      "LTCDPAYMENTAMOUNT_MIN\n",
      "LTCDPAYMENTTALLY_MAX\n",
      "LTDMAXDAYSDELQ_MAX\n",
      "LTDMAXDAYSDELQ_MIN\n",
      "LTDNETPAYMENTTALLY_MAX\n",
      "LTDNETPAYMENTTALLY_MIN\n",
      "NONDEFERREDBAL_MAX\n",
      "NUMBEROFMTHSINACTIVE_MAX\n",
      "OTHERFEEBAL_MAX\n",
      "OVERLIMITAMOUNT_MAX\n",
      "STATEMENTMINIMUMPAYMENTDUE_MAX\n",
      "STATEMENTMINIMUMPAYMENTDUE_MIN\n"
     ]
    }
   ],
   "source": [
    "indata = sam2\n",
    "out_data = pd.DataFrame([])\n",
    "columns_in = sam2.columns.tolist()\n",
    "columns_excl = ['CUSTOMERSEGMENT', 'DWACCTID', 'CUSTOMERNUMBER', 'RANDOMNUM', 'FIRSTELIGIBLEDATE']\n",
    "all_cat = []\n",
    "all_con = []\n",
    "for col_name in columns_in:\n",
    "    print col_name\n",
    "    col_out = indata[col_name]\n",
    "    if col_name not in columns_excl:\n",
    "        if (sam_sum.ix['unique',col_name] > 20):\n",
    "            out_data[col_name] = pd.to_numeric(col_out)\n",
    "            all_con.append(col_name)\n",
    "        if (sam_sum.ix['unique',col_name] <= 20):\n",
    "#             out_data[col_name] = pd.Series(pd.Categorical([v for v in col_out],categories=col_out.unique()))\n",
    "            out_data[col_name] = pd.Series(pd.Categorical([v for v in col_out],categories=col_out[~pd.isnull(col_out)].unique()))\n",
    "            all_cat.append(col_name)\n",
    "    else: out_data[col_name] = col_out"
   ]
  },
  {
   "cell_type": "code",
   "execution_count": 9,
   "metadata": {
    "collapsed": false
   },
   "outputs": [],
   "source": [
    "# out_data['CUSTOMERSEGMENT'] = pd.Series(pd.Categorical([v for v in out_data['CUSTOMERSEGMENT']],categories=(out_data['CUSTOMERSEGMENT']).unique()))\n",
    "out_data['CUSTOMERSEGMENT'] = pd.Series(pd.Categorical([v for v in out_data['CUSTOMERSEGMENT']],categories=(out_data['CUSTOMERSEGMENT'])[~pd.isnull(out_data['CUSTOMERSEGMENT'])].unique()))"
   ]
  },
  {
   "cell_type": "code",
   "execution_count": 10,
   "metadata": {
    "collapsed": false
   },
   "outputs": [],
   "source": [
    "target_raw = pd.read_csv('./Data/cli_maxcd.csv', dtype=object)\n",
    "target_raw.drop('RANDOMNUM', axis=1, inplace=True)"
   ]
  },
  {
   "cell_type": "code",
   "execution_count": 11,
   "metadata": {
    "collapsed": false
   },
   "outputs": [],
   "source": [
    "out_data_wtarget = out_data.set_index('DWACCTID').join(target_raw.set_index('DWACCTID'))\n",
    "train_prop = 0.8\n",
    "train = (out_data_wtarget.ix[pd.to_numeric(out_data_wtarget['RANDOMNUM']) <= sam_prop*train_prop,:]).copy()\n",
    "test = (out_data_wtarget.ix[pd.to_numeric(out_data_wtarget['RANDOMNUM']) > sam_prop*train_prop,:]).copy()"
   ]
  },
  {
   "cell_type": "code",
   "execution_count": 12,
   "metadata": {
    "collapsed": false
   },
   "outputs": [],
   "source": [
    "target = pd.to_numeric(train['MAX_CYCLEDUE'])\n",
    "train.drop(['CUSTOMERNUMBER', 'RANDOMNUM', 'FIRSTELIGIBLEDATE', 'MAX_CYCLEDUE'], axis=1, inplace=True)\n",
    "dmat = pd.get_dummies(train, prefix_sep='__', drop_first=True)"
   ]
  },
  {
   "cell_type": "code",
   "execution_count": 21,
   "metadata": {
    "collapsed": false
   },
   "outputs": [],
   "source": [
    "xgdmat = xgb.DMatrix(dmat, target)\n",
    "# xgb_model = xgb.XGBRegressor().fit(dmat, target)"
   ]
  },
  {
   "cell_type": "code",
   "execution_count": null,
   "metadata": {
    "collapsed": false
   },
   "outputs": [],
   "source": [
    "targett = pd.to_numeric(test['MAX_CYCLEDUE'])\n",
    "test.drop(['CUSTOMERNUMBER', 'RANDOMNUM', 'FIRSTELIGIBLEDATE', 'MAX_CYCLEDUE'], axis=1, inplace=True)\n",
    "dmatt = pd.get_dummies(test, prefix_sep='__', drop_first=True)"
   ]
  },
  {
   "cell_type": "code",
   "execution_count": null,
   "metadata": {
    "collapsed": false
   },
   "outputs": [],
   "source": [
    "pred = xgb_model.predict(dmatt)\n",
    "len(pred)"
   ]
  },
  {
   "cell_type": "code",
   "execution_count": null,
   "metadata": {
    "collapsed": false
   },
   "outputs": [],
   "source": [
    "scores = test.filter(regex=('SCORE.*')).copy()\n",
    "test_out = pd.concat([targett, scores], axis=1)\n",
    "test_out['PRED'] = pred"
   ]
  },
  {
   "cell_type": "code",
   "execution_count": null,
   "metadata": {
    "collapsed": false
   },
   "outputs": [],
   "source": [
    "test_out.to_csv('./Results/fitted_notuning_20pct.txt', index=False)"
   ]
  },
  {
   "cell_type": "code",
   "execution_count": null,
   "metadata": {
    "collapsed": false,
    "scrolled": true
   },
   "outputs": [],
   "source": [
    "wt = xgb_model.booster().get_score(importance_type='weight')\n",
    "wt2 = pd.DataFrame(wt.items(), columns=['Feature', 'Weight'])\n",
    "print_full(wt2.sort_values(['Weight'], ascending=False))"
   ]
  },
  {
   "cell_type": "code",
   "execution_count": null,
   "metadata": {
    "collapsed": false
   },
   "outputs": [],
   "source": [
    "scores.columns"
   ]
  },
  {
   "cell_type": "code",
   "execution_count": 15,
   "metadata": {
    "collapsed": false,
    "scrolled": true
   },
   "outputs": [],
   "source": [
    "grid = { \\\n",
    "'eta' : [0.1, 0.5, 1], \\\n",
    "'n_estimators' : [40, 80, 120], \\\n",
    "'max_depth' : [10, 20, 40], \\\n",
    "'min_child_weight' : [1, 5, 10], \\\n",
    "'gamma' : [0, 0.5, 1, 5], \\\n",
    "'subsample' : [0.5, 1], \\\n",
    "'colsample_bytree': [0.5, 1]        \n",
    "}\n",
    "\n",
    "def expand_grid(data_dict):\n",
    "    rows = itertools.product(*data_dict.values())\n",
    "    return pd.DataFrame.from_records(rows, columns=data_dict.keys())\n",
    "\n",
    "param_grid = expand_grid(grid)\n",
    "grid_len = param_grid.shape[0]"
   ]
  },
  {
   "cell_type": "code",
   "execution_count": 37,
   "metadata": {
    "collapsed": false
   },
   "outputs": [],
   "source": [
    "seq = np.random.choice(range(grid_len), grid_len, replace=False)\n",
    "for i in seq:\n",
    "params = { \\\n",
    "'eta' : param_grid['eta'][i], \\\n",
    "'n_estimators' : param_grid['n_estimators'][i], \\\n",
    "'max_depth' : param_grid['max_depth'][i], \\\n",
    "'min_child_weight' : param_grid['min_child_weight'][i], \\\n",
    "'gamma' : param_grid['gamma'][i], \\\n",
    "'subsample' : param_grid['subsample'][i], \\\n",
    "'colsample_bytree' : param_grid['colsample_bytree'][i], \\\n",
    "'objective' : 'reg:linear', \\\n",
    "'seed' : 206\n",
    "}\n",
    "cv_xgb = xgb.cv(params = params, dtrain = xgdmat, num_boost_round = 200, nfold = 5,\n",
    "                metrics = ['rmse'],\n",
    "                early_stopping_rounds = 20)\n",
    "all_cv = cv_xgb['test-rmse-mean']\n",
    "best = np.argmin(all_cv)\n",
    "to_write = pd.DataFrame(param_grid.loc[i].tolist() + [len(all_cv), best, all_cv[best]]).transpose()\n",
    "to_write.to_csv('./Results/all_mse.txt', header=False, index=False, mode='a')"
   ]
  }
 ],
 "metadata": {
  "kernelspec": {
   "display_name": "Python 2",
   "language": "python",
   "name": "python2"
  }
 },
 "nbformat": 4,
 "nbformat_minor": 2
}
